{
 "cells": [
  {
   "cell_type": "code",
   "execution_count": null,
   "metadata": {},
   "outputs": [],
   "source": [
    "import numpy as np\n",
    "import torch\n",
    "\n",
    "from src.core.anchor import unmap, expand_binary_labels\n",
    "from src.core.bbox import PseudoSampler\n",
    "from src.core.utils import describe\n",
    "\n",
    "from src.quiz.quiz6 import anchor_inside_flags\n",
    "from src.quiz.quiz7 import bbox2delta\n",
    "from src.quiz.quiz11 import assign\n",
    "\n",
    "%store -r anchor_target_variable"
   ]
  },
  {
   "cell_type": "code",
   "execution_count": null,
   "metadata": {},
   "outputs": [],
   "source": [
    "(anchor_list, valid_flag_list, gt_bboxes, gt_labels, img_metas, train_cfg, label_channels) = anchor_target_variable"
   ]
  },
  {
   "cell_type": "code",
   "execution_count": null,
   "metadata": {},
   "outputs": [],
   "source": [
    "print('anchor_list : ', describe(anchor_list))\n",
    "print('valid_flag_list : ', describe(valid_flag_list))\n",
    "print('gt_bboxes : ', describe(gt_bboxes))\n",
    "print('gt_labels : ', describe(gt_labels))\n",
    "print('img_metas : ', describe(img_metas))\n",
    "print('train_cfg : ', describe(train_cfg))"
   ]
  },
  {
   "cell_type": "code",
   "execution_count": null,
   "metadata": {},
   "outputs": [],
   "source": [
    "\"\"\"\n",
    "배치 내의 여러 장의 이미지중 한 장의 이미지에 대해서 동작하는 모습을 보여주는 예제입니다. \n",
    "현재 배치 크기는 1 입니다.\n",
    "\"\"\"\n",
    "\n",
    "flat_anchors = anchor_list[0]\n",
    "valid_flags = valid_flag_list[0]\n",
    "gt_bboxes = gt_bboxes[0]\n",
    "gt_labels = gt_labels[0]\n",
    "img_meta = img_metas[0]\n",
    "cfg = train_cfg\n",
    "\n",
    "inside_flags = anchor_inside_flags(flat_anchors, valid_flags,\n",
    "                                   img_meta['img_shape'][:2],\n",
    "                                   cfg.allowed_border)\n",
    "anchors = flat_anchors[inside_flags, :]"
   ]
  },
  {
   "cell_type": "code",
   "execution_count": null,
   "metadata": {},
   "outputs": [],
   "source": [
    "assign_result = assign(anchors, gt_bboxes, cfg.assigner)\n",
    "\n",
    "\"\"\"\n",
    "RetinaNet은 Positive sample을 전량 사용하므로 Sampling을 진행하지 않습니다.\n",
    "MMDetection은 Sampling을 사용하는 타 모델과 RetinaNet을 함께 구현하기 위하여 PseudoSampler 클래스를 사용합니다.\n",
    "해당 클래스를 통해 Sampling을 진행한 것과 같은 형식으로 만들 수 있습니다.\n",
    "\"\"\"\n",
    "bbox_sampler = PseudoSampler()\n",
    "sampling_result = bbox_sampler.sample(assign_result, anchors,\n",
    "                                      gt_bboxes)"
   ]
  },
  {
   "cell_type": "code",
   "execution_count": null,
   "metadata": {},
   "outputs": [],
   "source": [
    "\"\"\"\n",
    "Sampling한 결과물을 학습에 사용할 target형태로 만들어주는 작업입니다.\n",
    "\n",
    "첫 번째 단계에서는 모든 anchor에서 target을 계산할 수 있다는 가정 하에\n",
    "bbox_targets를 anchors와 같게,\n",
    "labels를 anchor의 개수와 같게 만들고\n",
    "값을 모두 0으로 초기화 합니다.(torch.zeros)\n",
    "\"\"\"\n",
    "num_valid_anchors = anchors.shape[0]\n",
    "bbox_targets = torch.zeros_like(anchors)\n",
    "bbox_weights = torch.zeros_like(anchors)\n",
    "labels = anchors.new_zeros(num_valid_anchors, dtype=torch.long)\n",
    "label_weights = anchors.new_zeros(num_valid_anchors, dtype=torch.float)"
   ]
  },
  {
   "cell_type": "code",
   "execution_count": null,
   "metadata": {},
   "outputs": [],
   "source": [
    "\"\"\"\n",
    "두 번째 단계는 target에 적절한 값을 대입해주는 작업입니다.\n",
    "학습에 사용할 anchor의 index를 pos_inds, neg_inds에서 각각 가져옵니다.\n",
    "해당 anchor들을 delta 형태로 고친 다음, targets에 넣습니다.\n",
    "\"\"\"\n",
    "pos_inds = sampling_result.pos_inds\n",
    "neg_inds = sampling_result.neg_inds\n",
    "\n",
    "if len(pos_inds) > 0:\n",
    "    pos_bbox_targets = bbox2delta(sampling_result.pos_bboxes,\n",
    "                                  sampling_result.pos_gt_bboxes)\n",
    "    bbox_targets[pos_inds, :] = pos_bbox_targets\n",
    "    bbox_weights[pos_inds, :] = 1.0\n",
    "\n",
    "    labels[pos_inds] = gt_labels[sampling_result.pos_assigned_gt_inds]\n",
    "    label_weights[pos_inds] = 1.0\n",
    "    \n",
    "if len(neg_inds) > 0:\n",
    "    label_weights[neg_inds] = 1.0\n",
    "\n",
    "\"\"\"\n",
    "처음 만들었던 flat_anchors와 같은 모양으로 복구하기 위하여\n",
    "inside_flag로 제외했던 anchor에 대한 target을 추가합니다.\n",
    "학습에 사용되지 않으므로 모두 0으로 채우게 됩니다.\n",
    "\"\"\"\n",
    "\n",
    "num_total_anchors = flat_anchors.size(0)\n",
    "labels = unmap(labels, num_total_anchors, inside_flags)\n",
    "label_weights = unmap(label_weights, num_total_anchors, inside_flags)\n",
    "if label_channels > 1:\n",
    "    labels, label_weights = expand_binary_labels(\n",
    "            labels, label_weights, label_channels)\n",
    "bbox_targets = unmap(bbox_targets, num_total_anchors, inside_flags)\n",
    "bbox_weights = unmap(bbox_weights, num_total_anchors, inside_flags)\n",
    "\n",
    "describe((labels, label_weights, bbox_targets, bbox_weights, pos_inds,\n",
    "        neg_inds))"
   ]
  }
 ],
 "metadata": {
  "kernelspec": {
   "display_name": "pycon",
   "language": "python",
   "name": "ub"
  },
  "language_info": {
   "codemirror_mode": {
    "name": "ipython",
    "version": 3
   },
   "file_extension": ".py",
   "mimetype": "text/x-python",
   "name": "python",
   "nbconvert_exporter": "python",
   "pygments_lexer": "ipython3",
   "version": "3.6.8"
  }
 },
 "nbformat": 4,
 "nbformat_minor": 2
}
