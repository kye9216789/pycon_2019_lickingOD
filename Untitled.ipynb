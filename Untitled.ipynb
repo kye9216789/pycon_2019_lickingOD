{
 "cells": [
  {
   "cell_type": "markdown",
   "metadata": {},
   "source": [
    "# What is Object Detection?"
   ]
  },
  {
   "cell_type": "markdown",
   "metadata": {},
   "source": [
    "# How ancestors did?"
   ]
  },
  {
   "cell_type": "markdown",
   "metadata": {},
   "source": [
    "# How done recently?"
   ]
  },
  {
   "cell_type": "markdown",
   "metadata": {},
   "source": [
    "### Single stage "
   ]
  },
  {
   "cell_type": "markdown",
   "metadata": {},
   "source": [
    "### Two stage"
   ]
  },
  {
   "cell_type": "markdown",
   "metadata": {},
   "source": [
    "### What is the difference?"
   ]
  },
  {
   "cell_type": "markdown",
   "metadata": {},
   "source": [
    "# MMDetection"
   ]
  },
  {
   "cell_type": "markdown",
   "metadata": {},
   "source": [
    "# MS COCO Dataset"
   ]
  },
  {
   "cell_type": "markdown",
   "metadata": {},
   "source": [
    "# What is Anchor?"
   ]
  },
  {
   "cell_type": "markdown",
   "metadata": {},
   "source": [
    "# How to train object detector?"
   ]
  },
  {
   "cell_type": "markdown",
   "metadata": {},
   "source": [
    "# Import Module"
   ]
  },
  {
   "cell_type": "code",
   "execution_count": 1,
   "metadata": {},
   "outputs": [],
   "source": [
    "import numpy as np\n",
    "import cv2\n",
    "import numpy as np\n",
    "import matplotlib.pyplot as plt\n",
    "import matplotlib.ticker as plticker\n",
    "import torch\n",
    "import torch.nn as nn\n",
    "import torch.nn.functional as F\n",
    "\n",
    "from matplotlib.lines import Line2D\n",
    "from matplotlib.patches import Patch\n",
    "\n",
    "from src.anchor.anchor_generator import (gen_base_anchors, get_anchors, \n",
    "                              grid_anchors, meshgrid)\n",
    "from src.anchor.assigner import assign_wrt_overlaps, bbox_overlaps\n",
    "from src.anchor.loss import binary_cross_entropy, smooth_l1_loss\n",
    "from src.anchor.prediction import predict_anchors\n",
    "from src.anchor.transforms import bbox2delta, delta2bbox\n",
    "from src.anchor.visualize import (draw_anchor_gt_overlaps, draw_anchor_samples_on_image, \n",
    "                       draw_base_anchor_on_grid, draw_pos_assigned_bboxes)\n",
    "from src.datasets.loader.build_loader import build_dataloader\n",
    "from src.models.builder import build_backbone, build_neck, build_head\n",
    "from mmcv.runner import obj_from_dict\n",
    "from mmcv.utils.config import Config\n",
    "from src.core import multi_apply, weighted_smoothl1, weighted_sigmoid_focal_loss\n",
    "from src.core.anchor import anchor_target_single, images_to_levels\n",
    "\n",
    "from src.core import multiclass_nms, bbox2result"
   ]
  },
  {
   "cell_type": "markdown",
   "metadata": {},
   "source": [
    "## build data loader"
   ]
  },
  {
   "cell_type": "code",
   "execution_count": 2,
   "metadata": {},
   "outputs": [
    {
     "name": "stdout",
     "output_type": "stream",
     "text": [
      "loading annotations into memory...\n",
      "Done (t=8.79s)\n",
      "creating index...\n",
      "index created!\n"
     ]
    }
   ],
   "source": [
    "cfg = Config.fromfile('config/retinanet_r50_fpn_1x.py')\n",
    "\n",
    "train_cfg = cfg.train_cfg\n",
    "test_cfg = cfg.test_cfg\n",
    "dataset_cfg = cfg.data.train\n",
    "\n",
    "loader = iter(build_dataloader(dataset_cfg))"
   ]
  },
  {
   "cell_type": "markdown",
   "metadata": {},
   "source": [
    "## extract feature"
   ]
  },
  {
   "cell_type": "code",
   "execution_count": 3,
   "metadata": {},
   "outputs": [],
   "source": [
    "class FeatureExtractor(nn.Module):\n",
    "    def __init__(self):\n",
    "        super(FeatureExtractor, self).__init__()\n",
    "        backbone_cfg = dict(\n",
    "                type='ResNet',\n",
    "                depth=50,\n",
    "                num_stages=4,\n",
    "                out_indices=(0, 1, 2, 3),\n",
    "                frozen_stages=1,\n",
    "                style='pytorch')\n",
    "\n",
    "        neck_cfg =dict(\n",
    "                type='FPN',\n",
    "                in_channels=[256, 512, 1024, 2048],\n",
    "                out_channels=256,\n",
    "                start_level=1,\n",
    "                add_extra_convs=True,\n",
    "                num_outs=5)\n",
    "        self.resnet_backbone = build_backbone(backbone_cfg)\n",
    "        self.fpn_neck = build_neck(neck_cfg)\n",
    "    \n",
    "    def forward(self, x):\n",
    "        print(x.shape)\n",
    "        feature = self.resnet_backbone(x)\n",
    "        multi_level_feature = self.fpn_neck(feature)\n",
    "        print(len(feature))\n",
    "        print(len(multi_level_feature))\n",
    "        print([x.shape for x in feature])\n",
    "        print([x.shape for x in multi_level_feature])\n",
    "        return multi_level_feature"
   ]
  },
  {
   "cell_type": "markdown",
   "metadata": {},
   "source": [
    "# Todo : sample dict의 key목록 확인"
   ]
  },
  {
   "cell_type": "code",
   "execution_count": 4,
   "metadata": {},
   "outputs": [
    {
     "name": "stdout",
     "output_type": "stream",
     "text": [
      "torch.Size([1, 3, 768, 1344])\n",
      "4\n",
      "5\n",
      "[torch.Size([1, 256, 192, 336]), torch.Size([1, 512, 96, 168]), torch.Size([1, 1024, 48, 84]), torch.Size([1, 2048, 24, 42])]\n",
      "[torch.Size([1, 256, 96, 168]), torch.Size([1, 256, 48, 84]), torch.Size([1, 256, 24, 42]), torch.Size([1, 256, 12, 21]), torch.Size([1, 256, 6, 11])]\n"
     ]
    }
   ],
   "source": [
    "sample = next(loader)\n",
    "img = sample['img'].data[0]\n",
    "img_metas = sample['img_meta'].data[0]\n",
    "gt_bboxes = sample['gt_bboxes'].data[0]\n",
    "gt_labels = sample['gt_labels'].data[0]\n",
    "\n",
    "feature_extractor = FeatureExtractor()\n",
    "feature = feature_extractor(img)"
   ]
  },
  {
   "cell_type": "markdown",
   "metadata": {},
   "source": [
    "## build rpn head"
   ]
  },
  {
   "cell_type": "code",
   "execution_count": 5,
   "metadata": {},
   "outputs": [],
   "source": [
    "rpn_config = cfg.model.bbox_head\n",
    "\n",
    "\"\"\"\n",
    "dict(\n",
    "    type='RetinaHead',\n",
    "    num_classes=81,\n",
    "    in_channels=256,\n",
    "    stacked_convs=4,\n",
    "    feat_channels=256,\n",
    "    octave_base_scale=4,\n",
    "    scales_per_octave=3,\n",
    "    anchor_ratios=[0.5, 1.0, 2.0],\n",
    "    anchor_strides=[8, 16, 32, 64, 128],\n",
    "    target_means=[.0, .0, .0, .0],\n",
    "    target_stds=[1.0, 1.0, 1.0, 1.0])\n",
    "\"\"\"\n",
    "rpn_head = build_head(rpn_config)\n",
    "cls_score, bbox_pred = rpn_head(feature)"
   ]
  },
  {
   "cell_type": "code",
   "execution_count": 6,
   "metadata": {},
   "outputs": [
    {
     "name": "stdout",
     "output_type": "stream",
     "text": [
      "[torch.Size([1, 720, 96, 168]), torch.Size([1, 720, 48, 84]), torch.Size([1, 720, 24, 42]), torch.Size([1, 720, 12, 21]), torch.Size([1, 720, 6, 11])]\n",
      "[torch.Size([1, 36, 96, 168]), torch.Size([1, 36, 48, 84]), torch.Size([1, 36, 24, 42]), torch.Size([1, 36, 12, 21]), torch.Size([1, 36, 6, 11])]\n"
     ]
    }
   ],
   "source": [
    "print([x.shape for x in cls_score])\n",
    "print([x.shape for x in bbox_pred])"
   ]
  },
  {
   "cell_type": "markdown",
   "metadata": {},
   "source": [
    "## get losses"
   ]
  },
  {
   "cell_type": "markdown",
   "metadata": {},
   "source": [
    "### define anchor_generators"
   ]
  },
  {
   "cell_type": "code",
   "execution_count": 7,
   "metadata": {},
   "outputs": [],
   "source": [
    "rpn_head.init_anchor_generator()"
   ]
  },
  {
   "cell_type": "markdown",
   "metadata": {},
   "source": [
    "### get anchors"
   ]
  },
  {
   "cell_type": "code",
   "execution_count": 8,
   "metadata": {},
   "outputs": [],
   "source": [
    "def get_anchors(anchor_generators, anchor_strides, featmap_sizes, img_metas):\n",
    "    \"\"\"Get anchors according to feature map sizes.\n",
    "\n",
    "    Args:\n",
    "        featmap_sizes (list[tuple]): Multi-level feature map sizes.\n",
    "        img_metas (list[dict]): Image meta info.\n",
    "\n",
    "    Returns:\n",
    "        tuple: anchors of each image, valid flags of each image\n",
    "    \"\"\"\n",
    "    num_imgs = len(img_metas)\n",
    "    num_levels = len(featmap_sizes)\n",
    "\n",
    "    # since feature map sizes of all images are the same, we only compute\n",
    "    # anchors for one time\n",
    "    multi_level_anchors = []\n",
    "    for i in range(num_levels):\n",
    "        anchors = anchor_generators[i].grid_anchors(\n",
    "            featmap_sizes[i], anchor_strides[i], device='cpu')\n",
    "        multi_level_anchors.append(anchors)\n",
    "    anchor_list = [multi_level_anchors for _ in range(num_imgs)]\n",
    "\n",
    "    # for each image, we compute valid flags of multi level anchors\n",
    "    valid_flag_list = []\n",
    "    for img_id, img_meta in enumerate(img_metas):\n",
    "        multi_level_flags = []\n",
    "        for i in range(num_levels):\n",
    "            anchor_stride = anchor_strides[i]\n",
    "            feat_h, feat_w = featmap_sizes[i]\n",
    "            h, w, _ = img_meta['pad_shape']\n",
    "            valid_feat_h = min(int(np.ceil(h / anchor_stride)), feat_h)\n",
    "            valid_feat_w = min(int(np.ceil(w / anchor_stride)), feat_w)\n",
    "            flags = anchor_generators[i].valid_flags(\n",
    "                (feat_h, feat_w), (valid_feat_h, valid_feat_w))\n",
    "            multi_level_flags.append(flags)\n",
    "        valid_flag_list.append(multi_level_flags)\n",
    "\n",
    "    return anchor_list, valid_flag_list"
   ]
  },
  {
   "cell_type": "code",
   "execution_count": 9,
   "metadata": {},
   "outputs": [],
   "source": [
    "featmap_sizes = [featmap.size()[-2:] for featmap in cls_score]\n",
    "anchor_list, valid_flag_list = get_anchors(rpn_head.anchor_generators, rpn_head.anchor_strides, featmap_sizes, img_metas)"
   ]
  },
  {
   "cell_type": "markdown",
   "metadata": {},
   "source": [
    "### make target"
   ]
  },
  {
   "cell_type": "markdown",
   "metadata": {},
   "source": [
    "#### anchor를 통해 target 후보를 만들고\n",
    "#### sample을 통해 유의미한 target을 골라낸다"
   ]
  },
  {
   "cell_type": "markdown",
   "metadata": {},
   "source": [
    "# Todo : anchor_target 해체, anchor_target_single 가져오고 문제거리 만들기"
   ]
  },
  {
   "cell_type": "code",
   "execution_count": 10,
   "metadata": {},
   "outputs": [],
   "source": [
    "num_imgs = len(img_metas)\n",
    "assert len(anchor_list) == len(valid_flag_list) == num_imgs\n",
    "\n",
    "num_level_anchors = [anchors.size(0) for anchors in anchor_list[0]]\n",
    "\n",
    "for i in range(num_imgs):\n",
    "    assert len(anchor_list[i]) == len(valid_flag_list[i])\n",
    "    anchor_list[i] = torch.cat(anchor_list[i])\n",
    "    valid_flag_list[i] = torch.cat(valid_flag_list[i])\n",
    "    \n",
    "gt_bboxes_ignore_list = [None for _ in range(num_imgs)]\n",
    "gt_labels_list = [None for _ in range(num_imgs)]"
   ]
  },
  {
   "cell_type": "code",
   "execution_count": 11,
   "metadata": {},
   "outputs": [
    {
     "name": "stdout",
     "output_type": "stream",
     "text": [
      "Stored 'anchor_target_variable' (tuple)\n"
     ]
    }
   ],
   "source": [
    "anchor_target_variable = (anchor_list, valid_flag_list, gt_bboxes, gt_bboxes_ignore_list, gt_labels_list, img_metas, train_cfg)\n",
    "%store anchor_target_variable"
   ]
  },
  {
   "cell_type": "code",
   "execution_count": 12,
   "metadata": {},
   "outputs": [],
   "source": [
    "(all_labels, all_label_weights, all_bbox_targets, all_bbox_weights,\n",
    "pos_inds_list, neg_inds_list) = multi_apply(\n",
    "   anchor_target_single,\n",
    "    anchor_list,\n",
    "    valid_flag_list,\n",
    "    gt_bboxes,\n",
    "    gt_bboxes_ignore_list,\n",
    "    gt_labels_list,\n",
    "    img_metas,\n",
    "    target_means=[.0, .0, .0, .0],\n",
    "    target_stds=[1.0, 1.0, 1.0, 1.0],\n",
    "    cfg=train_cfg,\n",
    "    label_channels=rpn_head.cls_out_channels,\n",
    "    sampling=False,\n",
    "    unmap_outputs=True)\n",
    "\n",
    "# no valid anchors\n",
    "if any([labels is None for labels in all_labels]):\n",
    "    assert False\n",
    "\n",
    "# sampled anchors of all images\n",
    "num_total_pos = sum([max(inds.numel(), 1) for inds in pos_inds_list])\n",
    "num_total_neg = sum([max(inds.numel(), 1) for inds in neg_inds_list])\n",
    "# split targets to a list w.r.t. multiple levels\n",
    "labels_list = images_to_levels(all_labels, num_level_anchors)\n",
    "label_weights_list = images_to_levels(all_label_weights, num_level_anchors)\n",
    "bbox_targets_list = images_to_levels(all_bbox_targets, num_level_anchors)\n",
    "bbox_weights_list = images_to_levels(all_bbox_weights, num_level_anchors)\n"
   ]
  },
  {
   "cell_type": "markdown",
   "metadata": {},
   "source": [
    "# Todo : assign & sample용 notebook 따로 만들기"
   ]
  },
  {
   "cell_type": "markdown",
   "metadata": {},
   "source": [
    "# Todo : loss_single 가져오고 문제로 만들기"
   ]
  },
  {
   "cell_type": "markdown",
   "metadata": {},
   "source": [
    "### get loss"
   ]
  },
  {
   "cell_type": "code",
   "execution_count": 13,
   "metadata": {},
   "outputs": [],
   "source": [
    "def loss_single(cls_score, bbox_pred, labels, label_weights,\n",
    "                bbox_targets, bbox_weights, num_total_samples, cfg, cls_out_channels):\n",
    "    # classification loss\n",
    "    labels = labels.reshape(-1, cls_out_channels)\n",
    "    label_weights = label_weights.reshape(-1, cls_out_channels)\n",
    "    cls_score = cls_score.permute(0, 2, 3, 1).reshape(\n",
    "        -1, cls_out_channels)\n",
    "    loss_cls = weighted_sigmoid_focal_loss(\n",
    "        cls_score,\n",
    "        labels,\n",
    "        label_weights,\n",
    "        gamma=cfg.gamma,\n",
    "        alpha=cfg.alpha,\n",
    "        avg_factor=num_total_samples)\n",
    "\n",
    "    # regression loss\n",
    "    bbox_targets = bbox_targets.reshape(-1, 4)\n",
    "    bbox_weights = bbox_weights.reshape(-1, 4)\n",
    "    bbox_pred = bbox_pred.permute(0, 2, 3, 1).reshape(-1, 4)\n",
    "    loss_reg = weighted_smoothl1(\n",
    "        bbox_pred,\n",
    "        bbox_targets,\n",
    "        bbox_weights,\n",
    "        beta=cfg.smoothl1_beta,\n",
    "        avg_factor=num_total_samples)\n",
    "    return loss_cls, loss_reg"
   ]
  },
  {
   "cell_type": "code",
   "execution_count": 14,
   "metadata": {},
   "outputs": [],
   "source": [
    "losses_cls, losses_reg = multi_apply(\n",
    "    loss_single,\n",
    "    cls_score,\n",
    "    bbox_pred,\n",
    "    labels_list,\n",
    "    label_weights_list,\n",
    "    bbox_targets_list,\n",
    "    bbox_weights_list,\n",
    "    num_total_samples=num_total_pos,\n",
    "    cfg=cfg.train_cfg,\n",
    "    cls_out_channels=rpn_head.cls_out_channels)"
   ]
  },
  {
   "cell_type": "code",
   "execution_count": 15,
   "metadata": {},
   "outputs": [
    {
     "data": {
      "text/plain": [
       "[tensor([13130.8975], grad_fn=<DivBackward0>),\n",
       " tensor([3278.4607], grad_fn=<DivBackward0>),\n",
       " tensor([816.1180], grad_fn=<DivBackward0>),\n",
       " tensor([199.2802], grad_fn=<DivBackward0>),\n",
       " tensor([52.2542], grad_fn=<DivBackward0>)]"
      ]
     },
     "execution_count": 15,
     "metadata": {},
     "output_type": "execute_result"
    }
   ],
   "source": [
    "losses_cls"
   ]
  },
  {
   "cell_type": "code",
   "execution_count": 16,
   "metadata": {},
   "outputs": [
    {
     "data": {
      "text/plain": [
       "[tensor([0.1191], grad_fn=<DivBackward0>),\n",
       " tensor([0.3492], grad_fn=<DivBackward0>),\n",
       " tensor([0.], grad_fn=<DivBackward0>),\n",
       " tensor([0.2348], grad_fn=<DivBackward0>),\n",
       " tensor([0.0229], grad_fn=<DivBackward0>)]"
      ]
     },
     "execution_count": 16,
     "metadata": {},
     "output_type": "execute_result"
    }
   ],
   "source": [
    "losses_reg"
   ]
  },
  {
   "cell_type": "markdown",
   "metadata": {},
   "source": [
    "## get results"
   ]
  },
  {
   "cell_type": "code",
   "execution_count": 17,
   "metadata": {},
   "outputs": [],
   "source": [
    "def get_bboxes(cls_scores, bbox_preds, img_metas, cfg,\n",
    "                anchor_generators, anchor_strides, cls_out_channels):\n",
    "    assert len(cls_scores) == len(bbox_preds)\n",
    "    num_levels = len(cls_scores)\n",
    "\n",
    "    mlvl_anchors = [\n",
    "        anchor_generators[i].grid_anchors(cls_scores[i].size()[-2:],\n",
    "                                            anchor_strides[i], device='cpu')\n",
    "        for i in range(num_levels)\n",
    "    ]\n",
    "    result_list = []\n",
    "    for img_id in range(len(img_metas)):\n",
    "        cls_score_list = [\n",
    "            cls_scores[i][img_id].detach() for i in range(num_levels)\n",
    "        ]\n",
    "        bbox_pred_list = [\n",
    "            bbox_preds[i][img_id].detach() for i in range(num_levels)\n",
    "        ]\n",
    "        img_shape = img_metas[img_id]['img_shape']\n",
    "        scale_factor = img_metas[img_id]['scale_factor']\n",
    "        proposals = get_bboxes_single(cls_score_list, bbox_pred_list,\n",
    "                                        mlvl_anchors, img_shape,\n",
    "                                        scale_factor, cfg, cls_out_channels)\n",
    "        result_list.append(proposals)\n",
    "    return result_list\n",
    "\n",
    "def get_bboxes_single(cls_scores,\n",
    "                      bbox_preds,\n",
    "                      mlvl_anchors,\n",
    "                      img_shape,\n",
    "                      scale_factor,\n",
    "                      cfg,\n",
    "                      cls_out_channels,\n",
    "                      target_means=[.0, .0, .0, .0],\n",
    "                      target_stds=[1.0, 1.0, 1.0, 1.0]):\n",
    "    assert len(cls_scores) == len(bbox_preds) == len(mlvl_anchors)\n",
    "    mlvl_bboxes = []\n",
    "    mlvl_scores = []\n",
    "    for cls_score, bbox_pred, anchors in zip(cls_scores, bbox_preds,\n",
    "                                                mlvl_anchors):\n",
    "        assert cls_score.size()[-2:] == bbox_pred.size()[-2:]\n",
    "        cls_score = cls_score.permute(1, 2, 0).reshape(\n",
    "            -1, cls_out_channels)\n",
    "\n",
    "        scores = cls_score.sigmoid()\n",
    "\n",
    "        bbox_pred = bbox_pred.permute(1, 2, 0).reshape(-1, 4)\n",
    "        nms_pre = cfg.get('nms_pre', -1)\n",
    "        if nms_pre > 0 and scores.shape[0] > nms_pre:\n",
    "\n",
    "            max_scores, _ = scores.max(dim=1)\n",
    "            _, topk_inds = max_scores.topk(nms_pre)\n",
    "            anchors = anchors[topk_inds, :]\n",
    "            bbox_pred = bbox_pred[topk_inds, :]\n",
    "            scores = scores[topk_inds, :]\n",
    "        bboxes = delta2bbox(anchors, bbox_pred, target_means,\n",
    "                            target_stds, img_shape)\n",
    "        mlvl_bboxes.append(bboxes)\n",
    "        mlvl_scores.append(scores)\n",
    "    mlvl_bboxes = torch.cat(mlvl_bboxes)\n",
    "    mlvl_scores = torch.cat(mlvl_scores)\n",
    "\n",
    "    padding = mlvl_scores.new_zeros(mlvl_scores.shape[0], 1)\n",
    "    mlvl_scores = torch.cat([padding, mlvl_scores], dim=1)\n",
    "    det_bboxes, det_labels = multiclass_nms(\n",
    "        mlvl_bboxes, mlvl_scores, cfg.score_thr, cfg.nms, cfg.max_per_img)\n",
    "    return det_bboxes, det_labels"
   ]
  },
  {
   "cell_type": "markdown",
   "metadata": {},
   "source": [
    "### get bboxes"
   ]
  },
  {
   "cell_type": "code",
   "execution_count": 18,
   "metadata": {},
   "outputs": [],
   "source": [
    "bbox_list = get_bboxes(cls_score, bbox_pred, img_metas, test_cfg,\n",
    "                       rpn_head.anchor_generators, rpn_head.anchor_strides, rpn_head.cls_out_channels)"
   ]
  },
  {
   "cell_type": "markdown",
   "metadata": {},
   "source": [
    "### get result"
   ]
  },
  {
   "cell_type": "code",
   "execution_count": 19,
   "metadata": {},
   "outputs": [],
   "source": [
    "bbox_results = [\n",
    "    bbox2result(det_bboxes, det_labels, rpn_head.num_classes)\n",
    "    for det_bboxes, det_labels in bbox_list\n",
    "][0]"
   ]
  },
  {
   "cell_type": "code",
   "execution_count": 21,
   "metadata": {},
   "outputs": [
    {
     "name": "stdout",
     "output_type": "stream",
     "text": [
      "[]\n",
      "[[326.19208    410.31924    353.48694    464.20523      0.76398736]\n",
      " [334.00684    406.5421     362.32513    459.6693       0.73710287]\n",
      " [347.75912    368.3091     373.19614    433.62875      0.73338187]]\n",
      "[]\n",
      "[[343.27505   434.60498   396.47092   479.46185     0.7600034]]\n",
      "[]\n",
      "[]\n",
      "[]\n",
      "[]\n",
      "[]\n",
      "[]\n",
      "[]\n",
      "[]\n",
      "[]\n",
      "[[319.40155    386.32504    394.9616     431.67355      0.7556553 ]\n",
      " [332.6041     422.87274    405.58707    463.32037      0.7474448 ]\n",
      " [360.72534    428.38235    394.12653    458.66617      0.73781514]]\n",
      "[]\n",
      "[[397.8662    424.44095   443.34235   468.11026     0.7395853]]\n",
      "[]\n",
      "[]\n",
      "[[378.3805     384.7159     394.25055    458.17996      0.7923141 ]\n",
      " [412.07422    396.0588     436.72137    450.8456       0.79198253]\n",
      " [283.56686    427.23618    328.04233    443.69357      0.78687674]\n",
      " [402.9591     391.27948    423.94983    452.01013      0.77729595]\n",
      " [361.4775     374.9951     384.9825     441.08047      0.776232  ]\n",
      " [390.02286    397.09027    408.61148    460.7489       0.7737548 ]\n",
      " [358.42593    391.8376     387.52664    462.0102       0.7736176 ]\n",
      " [378.46378    351.02136    399.20602    431.8152       0.77034026]\n",
      " [365.67374    337.65076    389.41635    409.54865      0.7701952 ]\n",
      " [355.892      423.49872    372.8207     490.44727      0.7674496 ]\n",
      " [415.25977    458.75592    437.82574    508.60132      0.764389  ]\n",
      " [369.97638    356.62994    393.18262    432.0232       0.76426125]\n",
      " [333.2754     421.56543    365.8802     439.5818       0.76403296]\n",
      " [359.0747     435.48273    379.14423    510.69653      0.7629658 ]\n",
      " [292.3782     431.5895     344.15695    450.6428       0.7618547 ]\n",
      " [333.8107     412.34427    372.9581     431.87515      0.7605256 ]\n",
      " [380.84628    392.48184    401.56387    479.5496       0.76044285]\n",
      " [348.95245    357.20477    368.71704    446.68097      0.76034707]\n",
      " [351.137      436.8717     371.61295    515.364        0.75811553]\n",
      " [395.42487    383.7578     416.17133    452.22003      0.755454  ]\n",
      " [342.8981     379.6863     358.0048     445.70963      0.75131905]\n",
      " [381.5141     415.0449     420.3274     434.6708       0.74992526]\n",
      " [409.17316    363.28543    426.13556    426.85855      0.74968046]\n",
      " [276.2049     418.759      326.0926     433.25528      0.7460718 ]\n",
      " [401.68594    372.55487    420.66483    430.19904      0.7434201 ]\n",
      " [336.75497    388.20282    387.5638     409.443        0.74314547]\n",
      " [342.20615    405.65222    398.80466    422.67474      0.7431341 ]\n",
      " [271.5785     403.33838    317.5747     415.60767      0.7429032 ]\n",
      " [434.7169     406.1001     453.046      472.99542      0.7424939 ]\n",
      " [277.7743     386.87756    314.40356    404.14612      0.7408675 ]\n",
      " [433.8284     457.24792    453.4111     523.8635       0.7393613 ]\n",
      " [271.0309     422.9943     315.5126     436.88687      0.7381649 ]\n",
      " [348.69012    397.22385    364.64948    494.81155      0.7374674 ]\n",
      " [428.45038    435.50415    450.73645    490.88916      0.73658335]\n",
      " [370.9016     426.80438    391.49084    498.41895      0.73399764]\n",
      " [337.0482     396.84418    396.5712     414.46002      0.73336357]\n",
      " [436.0624     464.85608    458.814      561.1531       0.73295695]\n",
      " [387.11777    407.96518    427.2712     425.10623      0.7327668 ]\n",
      " [439.03055    425.97       459.527      497.86514      0.7327451 ]\n",
      " [384.6865     373.21222    405.4058     439.95386      0.7322967 ]]\n",
      "[]\n",
      "[]\n",
      "[]\n",
      "[[308.43338    390.2187     327.45157    440.88715      0.769979  ]\n",
      " [318.22202    393.65338    344.8353     438.3282       0.7589913 ]\n",
      " [337.35397    403.7266     360.46902    460.0446       0.7533681 ]\n",
      " [344.69574    324.02444    394.33136    426.1807       0.7491035 ]\n",
      " [326.19208    410.31924    353.48694    464.20523      0.74809164]\n",
      " [354.85278    403.0561     371.42126    463.27222      0.74296385]\n",
      " [348.42798    406.0622     365.29315    463.99683      0.7375057 ]\n",
      " [314.4876     382.16922    334.0923     431.32034      0.7374642 ]\n",
      " [350.8717     384.34653    375.74683    449.8505       0.73695344]\n",
      " [377.05557    365.19144    407.08127    461.45993      0.7334479 ]]\n",
      "[]\n",
      "[]\n",
      "[]\n",
      "[]\n",
      "[]\n",
      "[]\n",
      "[]\n",
      "[[292.93976   395.97516   363.2226    437.4563      0.7517974]\n",
      " [368.26675   397.72482   421.7054    440.76248     0.7367861]\n",
      " [361.47797   426.75052   414.4643    463.55533     0.7321252]]\n",
      "[]\n",
      "[]\n",
      "[]\n",
      "[]\n",
      "[]\n",
      "[]\n",
      "[]\n",
      "[]\n",
      "[[326.19208    410.31924    353.48694    464.20523      0.7573068 ]\n",
      " [350.8717     384.34653    375.74683    449.8505       0.7374353 ]\n",
      " [316.69498    414.14697    345.3231     461.63422      0.73191625]]\n",
      "[]\n",
      "[]\n",
      "[]\n",
      "[[378.3805    384.7159    394.25055   458.17996     0.759482 ]\n",
      " [422.96988   382.66855   439.3143    449.8898      0.7407065]\n",
      " [347.68887   375.6399    367.03207   448.4063      0.7369629]]\n",
      "[]\n",
      "[]\n",
      "[]\n",
      "[[369.34415   434.95105   407.11508   474.89734     0.7442273]]\n",
      "[]\n",
      "[]\n",
      "[]\n",
      "[[365.1675     361.40112    387.38925    426.26636      0.7636514 ]\n",
      " [346.39542    388.8789     371.49527    467.3551       0.7632496 ]\n",
      " [320.7508     400.0327     342.93054    459.05273      0.7597668 ]\n",
      " [314.4876     382.16922    334.0923     431.32034      0.75951505]\n",
      " [289.88324    402.78314    312.99792    449.22992      0.7514841 ]\n",
      " [357.656      390.7599     375.83112    469.84686      0.7487597 ]\n",
      " [331.09723    375.04456    359.9721     417.62488      0.7486236 ]\n",
      " [322.65936    382.5103     345.78705    426.5517       0.74669755]\n",
      " [386.44766    351.17828    427.64554    457.91412      0.7461811 ]\n",
      " [334.00684    406.5421     362.32513    459.6693       0.7440535 ]\n",
      " [381.67023    454.61017    398.73352    507.50403      0.74203473]\n",
      " [365.79178    394.52704    386.0466     468.07117      0.74172604]\n",
      " [379.501      363.35175    403.87167    417.0307       0.7400437 ]\n",
      " [312.5155     405.07123    334.6443     452.07605      0.73885226]\n",
      " [493.9677     278.00595    518.9833     328.94565      0.7387582 ]\n",
      " [324.0775     397.8866     355.70624    464.18286      0.7358078 ]\n",
      " [414.77863    417.07953    442.6458     471.78503      0.73290604]\n",
      " [385.21347    435.49152    408.95963    501.16547      0.7326268 ]]\n",
      "[[233.51129    326.18774    448.08057    444.0567       0.73342943]]\n",
      "[]\n",
      "[]\n",
      "[]\n",
      "[]\n",
      "[]\n",
      "[]\n",
      "[]\n",
      "[[355.33484    436.95502    375.67084    464.01434      0.76375365]\n",
      " [347.84546    444.3482     366.49292    467.69745      0.74454486]\n",
      " [364.6593     415.82828    384.49176    444.9985       0.7410952 ]\n",
      " [348.6656     427.76917    368.22327    453.65295      0.74107975]\n",
      " [350.39084    412.78424    366.62967    440.2594       0.7408705 ]\n",
      " [344.42758    438.48505    365.43277    460.07452      0.73888856]\n",
      " [356.71304    428.84155    374.46158    450.1681       0.7379075 ]\n",
      " [388.58237    415.1744     413.7521     435.5847       0.737419  ]\n",
      " [298.55487    401.16742    336.32928    417.90167      0.73609746]\n",
      " [362.5617     427.33203    382.1955     450.70337      0.735774  ]]\n",
      "[]\n",
      "[]\n",
      "[]\n",
      "[]\n",
      "[]\n",
      "[]\n",
      "[[362.5617    427.33203   382.1955    450.70337     0.750117 ]\n",
      " [350.39084   412.78424   366.62967   440.2594      0.7371639]]\n",
      "[]\n",
      "[]\n",
      "[]\n",
      "[]\n",
      "[]\n",
      "[]\n",
      "[]\n",
      "[]\n",
      "[]\n",
      "[[316.06943   430.6924    385.85867   486.1205      0.7331725]]\n",
      "[]\n",
      "[]\n"
     ]
    }
   ],
   "source": [
    "for result in bbox_results:\n",
    "    print(result)"
   ]
  },
  {
   "cell_type": "code",
   "execution_count": 23,
   "metadata": {},
   "outputs": [
    {
     "name": "stderr",
     "output_type": "stream",
     "text": [
      "Clipping input data to the valid range for imshow with RGB data ([0..1] for floats or [0..255] for integers).\n"
     ]
    },
    {
     "data": {
      "text/plain": [
       "<matplotlib.image.AxesImage at 0x7f8290908b70>"
      ]
     },
     "execution_count": 23,
     "metadata": {},
     "output_type": "execute_result"
    },
    {
     "data": {
      "image/png": "[encoded data removed]",
      "text/plain": [
       "<Figure size 432x288 with 1 Axes>"
      ]
     },
     "metadata": {
      "needs_background": "light"
     },
     "output_type": "display_data"
    }
   ],
   "source": [
    "img = img.squeeze().permute(1, 2, 0).cpu().numpy()\n",
    "plt.imshow(img)"
   ]
  }
 ],
 "metadata": {
  "kernelspec": {
   "display_name": "pycon",
   "language": "python",
   "name": "ub"
  },
  "language_info": {
   "codemirror_mode": {
    "name": "ipython",
    "version": 3
   },
   "file_extension": ".py",
   "mimetype": "text/x-python",
   "name": "python",
   "nbconvert_exporter": "python",
   "pygments_lexer": "ipython3",
   "version": "3.6.8"
  }
 },
 "nbformat": 4,
 "nbformat_minor": 2
}
